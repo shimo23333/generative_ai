{
  "cells": [
    {
      "cell_type": "markdown",
      "metadata": {
        "id": "view-in-github",
        "colab_type": "text"
      },
      "source": [
        "<a href=\"https://colab.research.google.com/github/shimo23333/generative_ai/blob/main/0422%E4%BD%BF%E7%94%A8Microsoft_Bing_Create%E7%94%9F%E6%88%90%E5%96%9C%E6%AD%A1%E7%9A%84%E9%A2%A8%E6%A0%BC%E5%9C%96%E7%89%87%EF%BC%92.ipynb\" target=\"_parent\"><img src=\"https://colab.research.google.com/assets/colab-badge.svg\" alt=\"Open In Colab\"/></a>"
      ]
    },
    {
      "cell_type": "markdown",
      "metadata": {
        "id": "IzqFZQAEYryp"
      },
      "source": [
        "<h3>使用Bing 生成3D Q版寫實卡通風圖像</h3>\n",
        "\n",
        "\n",
        "<b>(一)用Style GAN生成圖像</b><br>\n",
        "\n",
        "首先，我打算生成一個吉祥物，但還缺少一點方向，所以我詢問GPT該如何下prompt。\n",
        "\n",
        "![image-2.png](attachment:image-2.png)\n",
        "\n",
        "接著我希望他製作一款保生大帝IP形象設計。\n",
        "\n",
        "先跟GPT介紹保生大帝:\n",
        "保生大帝，原名吳夲，曾任宋御醫，後懸壺濟世，因其高超醫術和高尚醫德深受閩地人民敬仰和愛戴，逝後被朝廷追封為「大道真人」、「保生大帝」，逐漸成為閩南、潮汕、臺灣地區及東南亞華僑華人共同的民間習俗信仰。\n",
        "\n",
        "原先大概是這個形象:\n",
        "\n",
        "![image-3.png](attachment:image-3.png)\n",
        "\n",
        "再跟它說我希望打造成一個現代潮流（像穿潮服、戴墨鏡、滑板），嘻哈風格的新時代人偶IP。\n",
        "\n",
        "![image-6.png](attachment:image-6.png)\n",
        "\n",
        "也嘗試了確實輸入中文生成不了什麼好東西。\n",
        "\n",
        "![image-5.png](attachment:image-5.png)\n",
        "\n",
        "\n",
        "\n",
        "回到剛剛生成的那組娃娃，我覺得第一張還不錯！\n",
        "所以問了GPT這張圖有什麼關鍵字可以下，這是GPT的回答:\n",
        "\n",
        "![image-7.png](attachment:image-7.png)\n",
        "\n",
        "\n",
        "中途想嘗試，這麼可愛的造型如果轉2D會怎麼樣?\n",
        "加入prompt嘗試後，總感覺有點差強人意:\n",
        "\n",
        "「The Emperor Hosho mascot, in 2D cute cartoon style, wearing traditional Chinese costume with trendy modern elements like sneakers. Holding a modern medical kit or medicine bottle. Flat vector illustration style, bold outlines, suitable for logo or mascot design. White background, quirky yet professional look.」\n",
        "\n",
        "![image-3.png](attachment:image-3.png)\n",
        "\n",
        "\n",
        "最終還是決定保留可愛微3D，也成功生成了一組長相都相似的角色人偶。\n",
        "\n",
        "「A highly detailed 3D rendered chibi-style character of a young emperor mascot, with a large head and big eyes, cute and expressive. Wearing traditional Chinese imperial clothing with intricate patterns, combined with modern street fashion elements like sneakers, bottle stickers, and hip accessories. Holding a modern medical kit with a health cross symbol, and a small medicine bottle attached to his robe. The character wears round glasses, a kind smile, and quirky professional.」\n",
        "\n",
        "![image.png](attachment:image.png)\n",
        "\n",
        "同時為了確認是否再生成也是一樣的臉，我又驗證了一組:\n",
        "\n",
        "「A cute and expressive chibi-style young emperor mascot, with a big head and big eyes, wearing detailed traditional Chinese imperial clothing mixed with trendy streetwear like sneakers and hip accessories. He has round glasses, a kind smile, and a quirky but professional look. Holding a modern medical kit with a health cross symbol, and a small medicine bottle hanging from his robe. Highly detailed 3D render, Pixar-style, soft lighting, white background.\n",
        "」\n",
        "\n",
        "![image-4.png](attachment:image-4.png)\n",
        "\n",
        "確實是同一組娃娃！完成這次嘗試Q版寫實卡通風的圖像~"
      ]
    }
  ],
  "metadata": {
    "colab": {
      "provenance": [],
      "include_colab_link": true
    },
    "kernelspec": {
      "display_name": "Python 3",
      "name": "python3"
    },
    "language_info": {
      "name": "python"
    }
  },
  "nbformat": 4,
  "nbformat_minor": 0
}