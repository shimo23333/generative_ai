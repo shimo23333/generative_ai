{
  "nbformat": 4,
  "nbformat_minor": 0,
  "metadata": {
    "colab": {
      "provenance": [],
      "authorship_tag": "ABX9TyOKu5wArEt8P3H93h5254y2",
      "include_colab_link": true
    },
    "kernelspec": {
      "name": "python3",
      "display_name": "Python 3"
    },
    "language_info": {
      "name": "python"
    }
  },
  "cells": [
    {
      "cell_type": "markdown",
      "metadata": {
        "id": "view-in-github",
        "colab_type": "text"
      },
      "source": [
        "<a href=\"https://colab.research.google.com/github/shimo23333/generative_ai/blob/main/0311%E5%85%A9%E5%80%8BLLM%E6%AF%94%E8%BC%83.ipynb\" target=\"_parent\"><img src=\"https://colab.research.google.com/assets/colab-badge.svg\" alt=\"Open In Colab\"/></a>"
      ]
    },
    {
      "cell_type": "markdown",
      "source": [
        "#比較ChatGPT與GROK在色彩學領域的表現\n",
        "\n",
        "\n",
        "首先我透過讓兩者各自寫一本色彩學書籍，進一步分析它們在內容完整性、組織結構、解釋深度及應用範例等方面的差異。\n",
        "\n",
        "\n",
        "接著我去比較兩者章節架構的不同，分析它們對色彩學知識的組織方式。\n",
        "它們雖然都列出了書籍的章節，卻各有不同。我再次讓他們詳細介紹色彩空間，並放入適合的一個章節之中，以此測試它們的內容安排及補充能力。我的衡量標準是印象中高中時學習過的色彩課本。\n",
        "\n",
        "到這裡的結果感覺和我印象中的相比還遠遠不夠詳細，因此我又讓他們分別詳細介紹，例如：伊登（Itten）、奧斯華德（Ostwald）等人的色彩理論，觀察它們在細節補充上的表現。\n",
        "\n",
        "從這裡開始就能更明顯的看出差異，一樣的指令內容GROK卻補充得更完整，特別是是否涵蓋NCS（Natural Color System）、PCCS（Practical Color Co-ordinate System）及其他各國的色彩理論，這點ChatGPT就稍微不足。\n",
        "\n",
        "最後我綜合比較兩者的內容表現，整理出各自的優劣點：\n",
        "一、章節結構的比較\n",
        "GROK的章節結構較接近一般色彩學書籍，每個篇章先敘述概念，再舉例說明，整體架構跟我認知的很相似，大加分。\n",
        "ChatGPT的內容則較偏向條列式，重點歸納清楚，但缺少一些過渡性敘述，閱讀體驗較接近自己做的重點筆記。\n",
        "\n",
        "二、色彩空間的介紹方式\n",
        "GROK在此部分的敘述較有訊序漸進的感覺，提供了很多實際應用案例，和我印象中的課本相似，都給人一種越來越懂得感覺！而ChatGPT則著重於概念性的介紹，就好像原本就學過的人在做複習。\n",
        "三、NCS、PCCS及其他國家色彩理論的補充\n",
        "原本ChatGPT和GROK都沒有完整涵蓋NCS、PCCS及其他國家的色彩理論。是在我要求補充後才完整，而且ChatGPT的補充依然不夠深入。而GROK的補充更全面，也包含了各個國家對色彩理論的應用，且舉例說明了不同文化對色彩的理解。\n",
        "\n",
        "結論（個人觀點）\n",
        "整體看起來我更喜歡GROK，因為它的回答更完整且具有敘述感。\n",
        "因為GROK的回答方式比較符合書籍的寫作方式，先鋪陳概念再舉例，讓人容易理解。ChatGPT則更像是筆記式的整理，雖然資訊清晰，但缺乏完整的學習脈絡，對新手理解色彩學上比較不適合。\n",
        "而通過這次測試讓我發現LLM真的各有自己的強項，不同模型在處理相同主題時，會因為訓練數據與模型架構的不同，產生明顯的風格差異，我想以後有問題不會只問ChatGPT了！"
      ],
      "metadata": {
        "id": "fUItma9FbguY"
      }
    },
    {
      "cell_type": "code",
      "source": [],
      "metadata": {
        "id": "QvYrxZ5bCQvb"
      },
      "execution_count": null,
      "outputs": []
    },
    {
      "cell_type": "markdown",
      "source": [],
      "metadata": {
        "id": "wptO45KYCRzS"
      }
    },
    {
      "cell_type": "markdown",
      "source": [],
      "metadata": {
        "id": "jLJuQxh9CSkC"
      }
    },
    {
      "cell_type": "code",
      "source": [],
      "metadata": {
        "id": "-c5Ko9qhCS-i"
      },
      "execution_count": null,
      "outputs": []
    }
  ]
}