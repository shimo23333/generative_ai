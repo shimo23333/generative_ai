{
  "nbformat": 4,
  "nbformat_minor": 0,
  "metadata": {
    "colab": {
      "provenance": [],
      "authorship_tag": "ABX9TyPr0gy5XoXopCt9H4VQDfc7",
      "include_colab_link": true
    },
    "kernelspec": {
      "name": "python3",
      "display_name": "Python 3"
    },
    "language_info": {
      "name": "python"
    }
  },
  "cells": [
    {
      "cell_type": "markdown",
      "metadata": {
        "id": "view-in-github",
        "colab_type": "text"
      },
      "source": [
        "<a href=\"https://colab.research.google.com/github/shimo23333/generative_ai/blob/main/0311%E5%85%A9%E5%80%8BLLM%E6%AF%94%E8%BC%83.ipynb\" target=\"_parent\"><img src=\"https://colab.research.google.com/assets/colab-badge.svg\" alt=\"Open In Colab\"/></a>"
      ]
    },
    {
      "cell_type": "markdown",
      "source": [
        "#畫函數圖形\n",
        "我想利用多個玫瑰線疊成蓮花，查詢到玫瑰圖的方法，原本只是簡單粉色紫色不太像，又去查了漸層的方法。\n",
        "過程中也有試過一般常見的那種圓形花瓣花朵，但最後這版最像所以保留。\n",
        "再加上方向旋轉製造交錯的感覺。\n"
      ],
      "metadata": {
        "id": "fUItma9FbguY"
      }
    }
  ]
}