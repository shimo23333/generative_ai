{
  "nbformat": 4,
  "nbformat_minor": 0,
  "metadata": {
    "colab": {
      "provenance": [],
      "authorship_tag": "ABX9TyPf79KukT2zlV8ddnKZciOU",
      "include_colab_link": true
    },
    "kernelspec": {
      "name": "python3",
      "display_name": "Python 3"
    },
    "language_info": {
      "name": "python"
    }
  },
  "cells": [
    {
      "cell_type": "markdown",
      "metadata": {
        "id": "view-in-github",
        "colab_type": "text"
      },
      "source": [
        "<a href=\"https://colab.research.google.com/github/shimo23333/generative_ai/blob/main/%E4%BD%BF%E7%94%A8_CLIP_%E6%A8%A1%E5%9E%8B%E5%8F%AF%E8%A6%96%E5%8C%96%E4%B8%AD%E8%8B%B1%E6%96%87%E6%83%85%E7%B7%92%E8%A9%9E%E5%BD%99%E7%9A%84%E8%AA%9E%E6%84%8F%E5%B7%AE%E7%95%B0.ipynb\" target=\"_parent\"><img src=\"https://colab.research.google.com/assets/colab-badge.svg\" alt=\"Open In Colab\"/></a>"
      ]
    },
    {
      "cell_type": "markdown",
      "source": [
        "# 1.安裝必要套件\n",
        "使用 OpenAI 所提供的 CLIP 模型來比較中英文情緒詞彙在語意空間中的差異。\n",
        "\n",
        "透過 Colab 安裝必要的 Python 套件，包括 OpenAI 的 CLIP 模型，以及文字處理與進度條等輔助工具。\n",
        "對情緒詞彙進行編碼並進行後續的可視化分析。"
      ],
      "metadata": {
        "id": "1hhL_zhf0B0N"
      }
    },
    {
      "cell_type": "code",
      "source": [
        "# 安裝 CLIP 模型與其依賴套件\n",
        "!pip install git+https://github.com/openai/CLIP.git\n",
        "!pip install ftfy regex tqdm matplotlib scikit-learn\n",
        "!apt-get -y install fonts-noto-cjk  # 安裝中文字體（Colab 專用）"
      ],
      "metadata": {
        "colab": {
          "base_uri": "https://localhost:8080/"
        },
        "id": "V1yf47-4z2pV",
        "outputId": "006c4bc5-31b6-4f78-8265-2ada92000fde"
      },
      "execution_count": 9,
      "outputs": [
        {
          "output_type": "stream",
          "name": "stdout",
          "text": [
            "Collecting git+https://github.com/openai/CLIP.git\n",
            "  Cloning https://github.com/openai/CLIP.git to /tmp/pip-req-build-0_3a83ur\n",
            "  Running command git clone --filter=blob:none --quiet https://github.com/openai/CLIP.git /tmp/pip-req-build-0_3a83ur\n",
            "  Resolved https://github.com/openai/CLIP.git to commit dcba3cb2e2827b402d2701e7e1c7d9fed8a20ef1\n",
            "  Preparing metadata (setup.py) ... \u001b[?25l\u001b[?25hdone\n",
            "Requirement already satisfied: ftfy in /usr/local/lib/python3.11/dist-packages (from clip==1.0) (6.3.1)\n",
            "Requirement already satisfied: packaging in /usr/local/lib/python3.11/dist-packages (from clip==1.0) (24.2)\n",
            "Requirement already satisfied: regex in /usr/local/lib/python3.11/dist-packages (from clip==1.0) (2024.11.6)\n",
            "Requirement already satisfied: tqdm in /usr/local/lib/python3.11/dist-packages (from clip==1.0) (4.67.1)\n",
            "Requirement already satisfied: torch in /usr/local/lib/python3.11/dist-packages (from clip==1.0) (2.6.0+cu124)\n",
            "Requirement already satisfied: torchvision in /usr/local/lib/python3.11/dist-packages (from clip==1.0) (0.21.0+cu124)\n",
            "Requirement already satisfied: wcwidth in /usr/local/lib/python3.11/dist-packages (from ftfy->clip==1.0) (0.2.13)\n",
            "Requirement already satisfied: filelock in /usr/local/lib/python3.11/dist-packages (from torch->clip==1.0) (3.18.0)\n",
            "Requirement already satisfied: typing-extensions>=4.10.0 in /usr/local/lib/python3.11/dist-packages (from torch->clip==1.0) (4.13.2)\n",
            "Requirement already satisfied: networkx in /usr/local/lib/python3.11/dist-packages (from torch->clip==1.0) (3.4.2)\n",
            "Requirement already satisfied: jinja2 in /usr/local/lib/python3.11/dist-packages (from torch->clip==1.0) (3.1.6)\n",
            "Requirement already satisfied: fsspec in /usr/local/lib/python3.11/dist-packages (from torch->clip==1.0) (2025.3.2)\n",
            "Requirement already satisfied: nvidia-cuda-nvrtc-cu12==12.4.127 in /usr/local/lib/python3.11/dist-packages (from torch->clip==1.0) (12.4.127)\n",
            "Requirement already satisfied: nvidia-cuda-runtime-cu12==12.4.127 in /usr/local/lib/python3.11/dist-packages (from torch->clip==1.0) (12.4.127)\n",
            "Requirement already satisfied: nvidia-cuda-cupti-cu12==12.4.127 in /usr/local/lib/python3.11/dist-packages (from torch->clip==1.0) (12.4.127)\n",
            "Requirement already satisfied: nvidia-cudnn-cu12==9.1.0.70 in /usr/local/lib/python3.11/dist-packages (from torch->clip==1.0) (9.1.0.70)\n",
            "Requirement already satisfied: nvidia-cublas-cu12==12.4.5.8 in /usr/local/lib/python3.11/dist-packages (from torch->clip==1.0) (12.4.5.8)\n",
            "Requirement already satisfied: nvidia-cufft-cu12==11.2.1.3 in /usr/local/lib/python3.11/dist-packages (from torch->clip==1.0) (11.2.1.3)\n",
            "Requirement already satisfied: nvidia-curand-cu12==10.3.5.147 in /usr/local/lib/python3.11/dist-packages (from torch->clip==1.0) (10.3.5.147)\n",
            "Requirement already satisfied: nvidia-cusolver-cu12==11.6.1.9 in /usr/local/lib/python3.11/dist-packages (from torch->clip==1.0) (11.6.1.9)\n",
            "Requirement already satisfied: nvidia-cusparse-cu12==12.3.1.170 in /usr/local/lib/python3.11/dist-packages (from torch->clip==1.0) (12.3.1.170)\n",
            "Requirement already satisfied: nvidia-cusparselt-cu12==0.6.2 in /usr/local/lib/python3.11/dist-packages (from torch->clip==1.0) (0.6.2)\n",
            "Requirement already satisfied: nvidia-nccl-cu12==2.21.5 in /usr/local/lib/python3.11/dist-packages (from torch->clip==1.0) (2.21.5)\n",
            "Requirement already satisfied: nvidia-nvtx-cu12==12.4.127 in /usr/local/lib/python3.11/dist-packages (from torch->clip==1.0) (12.4.127)\n",
            "Requirement already satisfied: nvidia-nvjitlink-cu12==12.4.127 in /usr/local/lib/python3.11/dist-packages (from torch->clip==1.0) (12.4.127)\n",
            "Requirement already satisfied: triton==3.2.0 in /usr/local/lib/python3.11/dist-packages (from torch->clip==1.0) (3.2.0)\n",
            "Requirement already satisfied: sympy==1.13.1 in /usr/local/lib/python3.11/dist-packages (from torch->clip==1.0) (1.13.1)\n",
            "Requirement already satisfied: mpmath<1.4,>=1.1.0 in /usr/local/lib/python3.11/dist-packages (from sympy==1.13.1->torch->clip==1.0) (1.3.0)\n",
            "Requirement already satisfied: numpy in /usr/local/lib/python3.11/dist-packages (from torchvision->clip==1.0) (2.0.2)\n",
            "Requirement already satisfied: pillow!=8.3.*,>=5.3.0 in /usr/local/lib/python3.11/dist-packages (from torchvision->clip==1.0) (11.2.1)\n",
            "Requirement already satisfied: MarkupSafe>=2.0 in /usr/local/lib/python3.11/dist-packages (from jinja2->torch->clip==1.0) (3.0.2)\n",
            "Requirement already satisfied: ftfy in /usr/local/lib/python3.11/dist-packages (6.3.1)\n",
            "Requirement already satisfied: regex in /usr/local/lib/python3.11/dist-packages (2024.11.6)\n",
            "Requirement already satisfied: tqdm in /usr/local/lib/python3.11/dist-packages (4.67.1)\n",
            "Requirement already satisfied: matplotlib in /usr/local/lib/python3.11/dist-packages (3.10.0)\n",
            "Requirement already satisfied: scikit-learn in /usr/local/lib/python3.11/dist-packages (1.6.1)\n",
            "Requirement already satisfied: wcwidth in /usr/local/lib/python3.11/dist-packages (from ftfy) (0.2.13)\n",
            "Requirement already satisfied: contourpy>=1.0.1 in /usr/local/lib/python3.11/dist-packages (from matplotlib) (1.3.2)\n",
            "Requirement already satisfied: cycler>=0.10 in /usr/local/lib/python3.11/dist-packages (from matplotlib) (0.12.1)\n",
            "Requirement already satisfied: fonttools>=4.22.0 in /usr/local/lib/python3.11/dist-packages (from matplotlib) (4.58.0)\n",
            "Requirement already satisfied: kiwisolver>=1.3.1 in /usr/local/lib/python3.11/dist-packages (from matplotlib) (1.4.8)\n",
            "Requirement already satisfied: numpy>=1.23 in /usr/local/lib/python3.11/dist-packages (from matplotlib) (2.0.2)\n",
            "Requirement already satisfied: packaging>=20.0 in /usr/local/lib/python3.11/dist-packages (from matplotlib) (24.2)\n",
            "Requirement already satisfied: pillow>=8 in /usr/local/lib/python3.11/dist-packages (from matplotlib) (11.2.1)\n",
            "Requirement already satisfied: pyparsing>=2.3.1 in /usr/local/lib/python3.11/dist-packages (from matplotlib) (3.2.3)\n",
            "Requirement already satisfied: python-dateutil>=2.7 in /usr/local/lib/python3.11/dist-packages (from matplotlib) (2.9.0.post0)\n",
            "Requirement already satisfied: scipy>=1.6.0 in /usr/local/lib/python3.11/dist-packages (from scikit-learn) (1.15.3)\n",
            "Requirement already satisfied: joblib>=1.2.0 in /usr/local/lib/python3.11/dist-packages (from scikit-learn) (1.5.0)\n",
            "Requirement already satisfied: threadpoolctl>=3.1.0 in /usr/local/lib/python3.11/dist-packages (from scikit-learn) (3.6.0)\n",
            "Requirement already satisfied: six>=1.5 in /usr/local/lib/python3.11/dist-packages (from python-dateutil>=2.7->matplotlib) (1.17.0)\n",
            "Reading package lists... Done\n",
            "Building dependency tree... Done\n",
            "Reading state information... Done\n",
            "fonts-noto-cjk is already the newest version (1:20220127+repack1-1).\n",
            "0 upgraded, 0 newly installed, 0 to remove and 34 not upgraded.\n"
          ]
        }
      ]
    },
    {
      "cell_type": "markdown",
      "source": [
        "# 2.載入模型並進行情緒詞嵌入與可視化"
      ],
      "metadata": {
        "id": "8sVoP32Z3ZS7"
      }
    },
    {
      "cell_type": "code",
      "execution_count": 10,
      "metadata": {
        "id": "898JT3xGzVhf"
      },
      "outputs": [],
      "source": [
        "# 匯入套件\n",
        "import clip\n",
        "import torch\n",
        "import matplotlib.pyplot as plt\n",
        "import numpy as np\n",
        "\n",
        "# 設定中文顯示字體（避免亂碼）\n",
        "plt.rcParams['font.family'] = 'Noto Sans CJK JP'  # 使用思源黑體顯示中文\n",
        "plt.rcParams['axes.unicode_minus'] = False        # 解決負號顯示問題\n",
        "\n",
        "# 載入 CLIP 模型（使用 ViT-B/32）\n",
        "device = \"cuda\" if torch.cuda.is_available() else \"cpu\"\n",
        "model, preprocess = clip.load(\"ViT-B/32\", device=device)\n",
        "\n",
        "# 定義中英文情緒詞（可自行擴充）\n",
        "texts = [\n",
        "    \"joy\", \"sadness\", \"anger\", \"fear\", \"love\", \"peace\",\n",
        "    \"喜悅\", \"悲傷\", \"憤怒\", \"恐懼\", \"愛\", \"平靜\"\n",
        "]\n",
        "\n",
        "# 將文字轉成 CLIP 模型的向量表示（Text Embedding）\n",
        "with torch.no_grad():\n",
        "    text_tokens = clip.tokenize(texts).to(device)            # 編碼文字\n",
        "    text_embeddings = model.encode_text(text_tokens)         # 產生嵌入向量\n"
      ]
    },
    {
      "cell_type": "markdown",
      "source": [
        "# 3.使用 t-SNE 將高維向量降為 2 維並畫圖"
      ],
      "metadata": {
        "id": "IIMorOTz3gur"
      }
    },
    {
      "cell_type": "code",
      "source": [
        "from sklearn.manifold import TSNE\n",
        "\n",
        "# 使用 t-SNE 進行降維（將高維向量降為 2 維）\n",
        "tsne = TSNE(n_components=2, random_state=42, perplexity=5)\n",
        "text_embeddings_2d = tsne.fit_transform(text_embeddings.cpu().numpy())\n",
        "\n",
        "# 視覺化：繪製 t-SNE 結果\n",
        "plt.figure(figsize=(10, 6))\n",
        "colors = plt.cm.tab10(np.linspace(0, 1, len(texts)))  # 使用不同顏色\n",
        "\n",
        "# 畫點與標籤文字\n",
        "for i, (x, y) in enumerate(text_embeddings_2d):\n",
        "    plt.scatter(x, y, color=colors[i])\n",
        "    plt.text(x + 1, y + 1, texts[i], fontsize=10)\n",
        "\n",
        "# 圖表設定\n",
        "plt.title(\"CLIP Text Embedding t-SNE (English & Chinese Emotions)\")\n",
        "plt.grid(True)\n",
        "plt.show()\n"
      ],
      "metadata": {
        "colab": {
          "base_uri": "https://localhost:8080/",
          "height": 1000
        },
        "id": "s7diBVqB3hmW",
        "outputId": "d705899e-151a-49b8-c4e2-a9a5ce31b9f7"
      },
      "execution_count": 11,
      "outputs": [
        {
          "output_type": "stream",
          "name": "stderr",
          "text": [
            "WARNING:matplotlib.font_manager:findfont: Font family 'Noto Sans CJK JP' not found.\n",
            "WARNING:matplotlib.font_manager:findfont: Font family 'Noto Sans CJK JP' not found.\n",
            "WARNING:matplotlib.font_manager:findfont: Font family 'Noto Sans CJK JP' not found.\n",
            "WARNING:matplotlib.font_manager:findfont: Font family 'Noto Sans CJK JP' not found.\n",
            "WARNING:matplotlib.font_manager:findfont: Font family 'Noto Sans CJK JP' not found.\n",
            "WARNING:matplotlib.font_manager:findfont: Font family 'Noto Sans CJK JP' not found.\n",
            "WARNING:matplotlib.font_manager:findfont: Font family 'Noto Sans CJK JP' not found.\n",
            "WARNING:matplotlib.font_manager:findfont: Font family 'Noto Sans CJK JP' not found.\n",
            "WARNING:matplotlib.font_manager:findfont: Font family 'Noto Sans CJK JP' not found.\n",
            "WARNING:matplotlib.font_manager:findfont: Font family 'Noto Sans CJK JP' not found.\n",
            "WARNING:matplotlib.font_manager:findfont: Font family 'Noto Sans CJK JP' not found.\n",
            "WARNING:matplotlib.font_manager:findfont: Font family 'Noto Sans CJK JP' not found.\n",
            "WARNING:matplotlib.font_manager:findfont: Font family 'Noto Sans CJK JP' not found.\n",
            "WARNING:matplotlib.font_manager:findfont: Font family 'Noto Sans CJK JP' not found.\n",
            "WARNING:matplotlib.font_manager:findfont: Font family 'Noto Sans CJK JP' not found.\n",
            "WARNING:matplotlib.font_manager:findfont: Font family 'Noto Sans CJK JP' not found.\n",
            "WARNING:matplotlib.font_manager:findfont: Font family 'Noto Sans CJK JP' not found.\n",
            "WARNING:matplotlib.font_manager:findfont: Font family 'Noto Sans CJK JP' not found.\n",
            "WARNING:matplotlib.font_manager:findfont: Font family 'Noto Sans CJK JP' not found.\n",
            "WARNING:matplotlib.font_manager:findfont: Font family 'Noto Sans CJK JP' not found.\n",
            "WARNING:matplotlib.font_manager:findfont: Font family 'Noto Sans CJK JP' not found.\n",
            "/usr/local/lib/python3.11/dist-packages/IPython/core/pylabtools.py:151: UserWarning: Glyph 21916 (\\N{CJK UNIFIED IDEOGRAPH-559C}) missing from font(s) DejaVu Sans.\n",
            "  fig.canvas.print_figure(bytes_io, **kw)\n",
            "/usr/local/lib/python3.11/dist-packages/IPython/core/pylabtools.py:151: UserWarning: Glyph 24709 (\\N{CJK UNIFIED IDEOGRAPH-6085}) missing from font(s) DejaVu Sans.\n",
            "  fig.canvas.print_figure(bytes_io, **kw)\n",
            "WARNING:matplotlib.font_manager:findfont: Font family 'Noto Sans CJK JP' not found.\n",
            "/usr/local/lib/python3.11/dist-packages/IPython/core/pylabtools.py:151: UserWarning: Glyph 24754 (\\N{CJK UNIFIED IDEOGRAPH-60B2}) missing from font(s) DejaVu Sans.\n",
            "  fig.canvas.print_figure(bytes_io, **kw)\n",
            "/usr/local/lib/python3.11/dist-packages/IPython/core/pylabtools.py:151: UserWarning: Glyph 20663 (\\N{CJK UNIFIED IDEOGRAPH-50B7}) missing from font(s) DejaVu Sans.\n",
            "  fig.canvas.print_figure(bytes_io, **kw)\n",
            "WARNING:matplotlib.font_manager:findfont: Font family 'Noto Sans CJK JP' not found.\n",
            "/usr/local/lib/python3.11/dist-packages/IPython/core/pylabtools.py:151: UserWarning: Glyph 24996 (\\N{CJK UNIFIED IDEOGRAPH-61A4}) missing from font(s) DejaVu Sans.\n",
            "  fig.canvas.print_figure(bytes_io, **kw)\n",
            "/usr/local/lib/python3.11/dist-packages/IPython/core/pylabtools.py:151: UserWarning: Glyph 24594 (\\N{CJK UNIFIED IDEOGRAPH-6012}) missing from font(s) DejaVu Sans.\n",
            "  fig.canvas.print_figure(bytes_io, **kw)\n",
            "WARNING:matplotlib.font_manager:findfont: Font family 'Noto Sans CJK JP' not found.\n",
            "/usr/local/lib/python3.11/dist-packages/IPython/core/pylabtools.py:151: UserWarning: Glyph 24656 (\\N{CJK UNIFIED IDEOGRAPH-6050}) missing from font(s) DejaVu Sans.\n",
            "  fig.canvas.print_figure(bytes_io, **kw)\n",
            "/usr/local/lib/python3.11/dist-packages/IPython/core/pylabtools.py:151: UserWarning: Glyph 25084 (\\N{CJK UNIFIED IDEOGRAPH-61FC}) missing from font(s) DejaVu Sans.\n",
            "  fig.canvas.print_figure(bytes_io, **kw)\n",
            "WARNING:matplotlib.font_manager:findfont: Font family 'Noto Sans CJK JP' not found.\n",
            "/usr/local/lib/python3.11/dist-packages/IPython/core/pylabtools.py:151: UserWarning: Glyph 24859 (\\N{CJK UNIFIED IDEOGRAPH-611B}) missing from font(s) DejaVu Sans.\n",
            "  fig.canvas.print_figure(bytes_io, **kw)\n",
            "WARNING:matplotlib.font_manager:findfont: Font family 'Noto Sans CJK JP' not found.\n",
            "/usr/local/lib/python3.11/dist-packages/IPython/core/pylabtools.py:151: UserWarning: Glyph 24179 (\\N{CJK UNIFIED IDEOGRAPH-5E73}) missing from font(s) DejaVu Sans.\n",
            "  fig.canvas.print_figure(bytes_io, **kw)\n",
            "/usr/local/lib/python3.11/dist-packages/IPython/core/pylabtools.py:151: UserWarning: Glyph 38748 (\\N{CJK UNIFIED IDEOGRAPH-975C}) missing from font(s) DejaVu Sans.\n",
            "  fig.canvas.print_figure(bytes_io, **kw)\n",
            "WARNING:matplotlib.font_manager:findfont: Font family 'Noto Sans CJK JP' not found.\n",
            "WARNING:matplotlib.font_manager:findfont: Font family 'Noto Sans CJK JP' not found.\n",
            "WARNING:matplotlib.font_manager:findfont: Font family 'Noto Sans CJK JP' not found.\n",
            "WARNING:matplotlib.font_manager:findfont: Font family 'Noto Sans CJK JP' not found.\n",
            "WARNING:matplotlib.font_manager:findfont: Font family 'Noto Sans CJK JP' not found.\n",
            "WARNING:matplotlib.font_manager:findfont: Font family 'Noto Sans CJK JP' not found.\n",
            "WARNING:matplotlib.font_manager:findfont: Font family 'Noto Sans CJK JP' not found.\n",
            "WARNING:matplotlib.font_manager:findfont: Font family 'Noto Sans CJK JP' not found.\n",
            "WARNING:matplotlib.font_manager:findfont: Font family 'Noto Sans CJK JP' not found.\n",
            "WARNING:matplotlib.font_manager:findfont: Font family 'Noto Sans CJK JP' not found.\n",
            "WARNING:matplotlib.font_manager:findfont: Font family 'Noto Sans CJK JP' not found.\n",
            "WARNING:matplotlib.font_manager:findfont: Font family 'Noto Sans CJK JP' not found.\n",
            "WARNING:matplotlib.font_manager:findfont: Font family 'Noto Sans CJK JP' not found.\n",
            "WARNING:matplotlib.font_manager:findfont: Font family 'Noto Sans CJK JP' not found.\n",
            "WARNING:matplotlib.font_manager:findfont: Font family 'Noto Sans CJK JP' not found.\n",
            "WARNING:matplotlib.font_manager:findfont: Font family 'Noto Sans CJK JP' not found.\n",
            "WARNING:matplotlib.font_manager:findfont: Font family 'Noto Sans CJK JP' not found.\n",
            "WARNING:matplotlib.font_manager:findfont: Font family 'Noto Sans CJK JP' not found.\n",
            "WARNING:matplotlib.font_manager:findfont: Font family 'Noto Sans CJK JP' not found.\n",
            "WARNING:matplotlib.font_manager:findfont: Font family 'Noto Sans CJK JP' not found.\n",
            "WARNING:matplotlib.font_manager:findfont: Font family 'Noto Sans CJK JP' not found.\n",
            "WARNING:matplotlib.font_manager:findfont: Font family 'Noto Sans CJK JP' not found.\n",
            "WARNING:matplotlib.font_manager:findfont: Font family 'Noto Sans CJK JP' not found.\n",
            "WARNING:matplotlib.font_manager:findfont: Font family 'Noto Sans CJK JP' not found.\n",
            "WARNING:matplotlib.font_manager:findfont: Font family 'Noto Sans CJK JP' not found.\n",
            "WARNING:matplotlib.font_manager:findfont: Font family 'Noto Sans CJK JP' not found.\n",
            "WARNING:matplotlib.font_manager:findfont: Font family 'Noto Sans CJK JP' not found.\n",
            "WARNING:matplotlib.font_manager:findfont: Font family 'Noto Sans CJK JP' not found.\n",
            "WARNING:matplotlib.font_manager:findfont: Font family 'Noto Sans CJK JP' not found.\n",
            "WARNING:matplotlib.font_manager:findfont: Font family 'Noto Sans CJK JP' not found.\n",
            "WARNING:matplotlib.font_manager:findfont: Font family 'Noto Sans CJK JP' not found.\n",
            "WARNING:matplotlib.font_manager:findfont: Font family 'Noto Sans CJK JP' not found.\n",
            "WARNING:matplotlib.font_manager:findfont: Font family 'Noto Sans CJK JP' not found.\n",
            "WARNING:matplotlib.font_manager:findfont: Font family 'Noto Sans CJK JP' not found.\n",
            "WARNING:matplotlib.font_manager:findfont: Font family 'Noto Sans CJK JP' not found.\n",
            "WARNING:matplotlib.font_manager:findfont: Font family 'Noto Sans CJK JP' not found.\n",
            "WARNING:matplotlib.font_manager:findfont: Font family 'Noto Sans CJK JP' not found.\n",
            "WARNING:matplotlib.font_manager:findfont: Font family 'Noto Sans CJK JP' not found.\n",
            "WARNING:matplotlib.font_manager:findfont: Font family 'Noto Sans CJK JP' not found.\n",
            "WARNING:matplotlib.font_manager:findfont: Font family 'Noto Sans CJK JP' not found.\n",
            "WARNING:matplotlib.font_manager:findfont: Font family 'Noto Sans CJK JP' not found.\n",
            "WARNING:matplotlib.font_manager:findfont: Font family 'Noto Sans CJK JP' not found.\n",
            "WARNING:matplotlib.font_manager:findfont: Font family 'Noto Sans CJK JP' not found.\n",
            "WARNING:matplotlib.font_manager:findfont: Font family 'Noto Sans CJK JP' not found.\n",
            "WARNING:matplotlib.font_manager:findfont: Font family 'Noto Sans CJK JP' not found.\n",
            "WARNING:matplotlib.font_manager:findfont: Font family 'Noto Sans CJK JP' not found.\n",
            "WARNING:matplotlib.font_manager:findfont: Font family 'Noto Sans CJK JP' not found.\n",
            "WARNING:matplotlib.font_manager:findfont: Font family 'Noto Sans CJK JP' not found.\n",
            "WARNING:matplotlib.font_manager:findfont: Font family 'Noto Sans CJK JP' not found.\n",
            "WARNING:matplotlib.font_manager:findfont: Font family 'Noto Sans CJK JP' not found.\n",
            "WARNING:matplotlib.font_manager:findfont: Font family 'Noto Sans CJK JP' not found.\n"
          ]
        },
        {
          "output_type": "display_data",
          "data": {
            "text/plain": [
              "<Figure size 1000x600 with 1 Axes>"
            ],
            "image/png": "[encoded data removed]"
          },
          "metadata": {}
        }
      ]
    }
  ]
}