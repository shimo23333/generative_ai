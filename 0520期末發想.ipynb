{
  "cells": [
    {
      "cell_type": "markdown",
      "metadata": {
        "id": "view-in-github",
        "colab_type": "text"
      },
      "source": [
        "<a href=\"https://colab.research.google.com/github/shimo23333/generative_ai/blob/main/0520%E6%9C%9F%E6%9C%AB%E7%99%BC%E6%83%B3.ipynb\" target=\"_parent\"><img src=\"https://colab.research.google.com/assets/colab-badge.svg\" alt=\"Open In Colab\"/></a>"
      ]
    },
    {
      "cell_type": "markdown",
      "source": [
        "# 預期的期末專案\n",
        "# **題目：跨文化色彩語意比較：CLIP中語言對色彩理解的差異**\n",
        "\n",
        "\n",
        "預設流程與做法\n",
        "\n",
        "(一)語言輸入\n",
        "\n",
        "資料準備與詞彙對齊 <br>\n",
        "CLIP 模型（Text Encoder）將不同語言的詞轉為向量\n",
        "\n",
        "(二)使用 CLIP 結合圖像生成與色彩分析\n",
        "\n",
        "圖像對應與色彩資訊的提取與轉換 <br>\n",
        "CLIP 模型（Text + Image）找到與詞語最相似的圖像 <br>\n",
        "DALL·E / Stable Diffusion 文字轉圖片 <br>\n",
        "色彩擷取（Color Extraction）從圖像中萃取主色調 <br>\n",
        "RGB → Lab 轉換，讓色彩可以做空間比較\n",
        "\n",
        "(三)將圖片色票對照比較\n",
        "\n",
        "相似度計算，評估語言間的色彩向量距離，並繪製色票圖 <br>\n",
        "理論比對（如色彩語意研究）\n",
        "\n",
        "運用了課堂學到的clip模型圖像生成技術，和利用LLM(OpenAI)進行翻譯。"
      ],
      "metadata": {
        "id": "rFtO4verKgQ9"
      }
    },
    {
      "cell_type": "code",
      "source": [],
      "metadata": {
        "id": "nzZIR73hKwHw"
      },
      "execution_count": null,
      "outputs": []
    }
  ],
  "metadata": {
    "accelerator": "GPU",
    "colab": {
      "gpuType": "T4",
      "provenance": [],
      "authorship_tag": "ABX9TyPDPDjKZqxB72f7X/+P5dik",
      "include_colab_link": true
    },
    "kernelspec": {
      "display_name": "Python 3",
      "name": "python3"
    },
    "language_info": {
      "name": "python"
    }
  },
  "nbformat": 4,
  "nbformat_minor": 0
}